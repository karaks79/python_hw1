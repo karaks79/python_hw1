{
 "cells": [
  {
   "cell_type": "markdown",
   "metadata": {},
   "source": [
    "# Домашняя работа-1 (к лекции от 26.11.2018)\n",
    "\n",
    "# Задание-1\n",
    "long_phrase = 'Насколько проще было бы писать программы, если бы не заказчики'\n",
    "short_phrase = '640Кб должно хватить для любых задач. Билл Гейтс (по легенде)'"
   ]
  },
  {
   "cell_type": "markdown",
   "metadata": {},
   "source": [
    "if len(long_phrase) > len(short_phrase):\n",
    "    print(True)\n",
    "else:\n",
    "    print(False)"
   ]
  },
  {
   "cell_type": "code",
   "execution_count": 6,
   "metadata": {},
   "outputs": [],
   "source": [
    "# Задание-2\n",
    "text = 'Если программист в 9-00 утра на работе, значит, он там и ночевал'"
   ]
  },
  {
   "cell_type": "code",
   "execution_count": 13,
   "metadata": {},
   "outputs": [
    {
     "name": "stdout",
     "output_type": "stream",
     "text": [
      "num_a =  7 num_i =  4\n",
      "Буква \"a\" встречается чаще, чем буквам \"и\"!\n"
     ]
    }
   ],
   "source": [
    "len_text = len(text)\n",
    "text_1, text_2 = text, text\n",
    "num_a = len_text - len(text_1.replace('а', ''))\n",
    "num_i = len_text - len(text_2.replace('и', ''))\n",
    "print('num_a = ', num_a, 'num_i = ', num_i)\n",
    "if num_a > num_i:\n",
    "    print('Буква \"a\" встречается чаще, чем буквам \"и\"!')\n",
    "elif num_a < num_i:\n",
    "    print('Буква \"и\" встречается чаще, чем буквам \"a\"!')\n",
    "else:\n",
    "    print('Буквы \"a\" и \"и\" встречается одинаково часто!')"
   ]
  },
  {
   "cell_type": "code",
   "execution_count": 20,
   "metadata": {},
   "outputs": [],
   "source": [
    "# Задание-3\n",
    "file_size_byte = 104857600"
   ]
  },
  {
   "cell_type": "code",
   "execution_count": 21,
   "metadata": {},
   "outputs": [
    {
     "name": "stdout",
     "output_type": "stream",
     "text": [
      "Объем файла равен 100.00Mb\n"
     ]
    }
   ],
   "source": [
    "print('Объем файла равен {:.2f}Mb'.format(file_size_byte / 1024 / 1024))"
   ]
  },
  {
   "cell_type": "code",
   "execution_count": 34,
   "metadata": {},
   "outputs": [],
   "source": [
    "# Задание-4\n",
    "angle = 30"
   ]
  },
  {
   "cell_type": "code",
   "execution_count": 36,
   "metadata": {},
   "outputs": [
    {
     "name": "stdout",
     "output_type": "stream",
     "text": [
      "0.49999999999999994\n"
     ]
    }
   ],
   "source": [
    "import math\n",
    "print(math.sin(2 * math.pi * angle / 360))"
   ]
  },
  {
   "cell_type": "code",
   "execution_count": 39,
   "metadata": {},
   "outputs": [
    {
     "name": "stdout",
     "output_type": "stream",
     "text": [
      "0.3\n"
     ]
    }
   ],
   "source": [
    "# Задание-5\n",
    "# Не уверен, что понял задачу. Если задача в том, чтобы вывести на экран 0.3, то:\n",
    "print('{:.1f}'.format(0.1 + 0.2))"
   ]
  },
  {
   "cell_type": "code",
   "execution_count": 40,
   "metadata": {},
   "outputs": [],
   "source": [
    "# Задания посложнее\n",
    "a = 1\n",
    "b = 2"
   ]
  },
  {
   "cell_type": "code",
   "execution_count": 41,
   "metadata": {},
   "outputs": [
    {
     "name": "stdout",
     "output_type": "stream",
     "text": [
      "a =  2 b =  1\n"
     ]
    }
   ],
   "source": [
    "a, b = b, a\n",
    "print('a = ', a, 'b = ', b)"
   ]
  },
  {
   "cell_type": "code",
   "execution_count": 42,
   "metadata": {},
   "outputs": [],
   "source": [
    "num=10011"
   ]
  },
  {
   "cell_type": "code",
   "execution_count": 47,
   "metadata": {},
   "outputs": [
    {
     "name": "stdout",
     "output_type": "stream",
     "text": [
      "19\n"
     ]
    }
   ],
   "source": [
    "str_num = str(num)\n",
    "num_digits = len(str_num)\n",
    "dec = 0\n",
    "for n in range(num_digits):\n",
    "    dec += 2 ** (num_digits - n - 1) * int(str_num[n])\n",
    "print(dec)"
   ]
  },
  {
   "cell_type": "code",
   "execution_count": null,
   "metadata": {},
   "outputs": [],
   "source": []
  }
 ],
 "metadata": {
  "kernelspec": {
   "display_name": "Python 3",
   "language": "python",
   "name": "python3"
  },
  "language_info": {
   "codemirror_mode": {
    "name": "ipython",
    "version": 3
   },
   "file_extension": ".py",
   "mimetype": "text/x-python",
   "name": "python",
   "nbconvert_exporter": "python",
   "pygments_lexer": "ipython3",
   "version": "3.7.0"
  }
 },
 "nbformat": 4,
 "nbformat_minor": 2
}
